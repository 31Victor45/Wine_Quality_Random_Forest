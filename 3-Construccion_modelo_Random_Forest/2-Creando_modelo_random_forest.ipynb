{
 "cells": [
  {
   "cell_type": "markdown",
   "id": "be4b7c40",
   "metadata": {},
   "source": [
    "# Creacion del modelo\n",
    "\n",
    "En notebook crearemos el modelo de bosques aleatorios con las caracteristicas que previamente comprobamos que ayudan a su optimo desempeño"
   ]
  },
  {
   "cell_type": "code",
   "execution_count": 1,
   "id": "736d0fc6",
   "metadata": {},
   "outputs": [],
   "source": [
    "# Importamos las librerias necesarias\n",
    "import pandas as pd\n",
    "import numpy as np\n",
    "import seaborn as sns\n",
    "import matplotlib.pyplot as plt\n",
    "from sklearn.ensemble import RandomForestClassifier\n",
    "from sklearn.model_selection import train_test_split\n",
    "from sklearn.metrics import accuracy_score, f1_score, classification_report, confusion_matrix\n",
    "\n",
    "df_model_wine = pd.read_csv(\"dataset/wine_ready.csv\")"
   ]
  },
  {
   "cell_type": "markdown",
   "id": "38f9b649",
   "metadata": {},
   "source": [
    "Contruyamos el modelo"
   ]
  },
  {
   "cell_type": "code",
   "execution_count": 2,
   "id": "c57f6120",
   "metadata": {},
   "outputs": [
    {
     "name": "stdout",
     "output_type": "stream",
     "text": [
      "--- Métricas de Evaluación del Modelo Final ---\n",
      "Precisión (Accuracy): 0.8156\n",
      "F1-Score (Weighted): 0.8158\n",
      "\n",
      "Reporte de Clasificación:\n",
      "              precision    recall  f1-score   support\n",
      "\n",
      "           0       0.78      0.83      0.81       149\n",
      "           1       0.85      0.80      0.82       171\n",
      "\n",
      "    accuracy                           0.82       320\n",
      "   macro avg       0.82      0.82      0.82       320\n",
      "weighted avg       0.82      0.82      0.82       320\n",
      "\n"
     ]
    }
   ],
   "source": [
    "# 1. Separar características y variable objetivo\n",
    "X = df_model_wine.drop('quality_binary', axis=1)\n",
    "y = df_model_wine['quality_binary']\n",
    "\n",
    "# 2. Obtener las 7 características más importantes (como paso previo necesario)\n",
    "# Entrenamos un modelo temporal para obtener la importancia de las características\n",
    "temp_model = RandomForestClassifier(n_estimators=170, max_depth=20, min_samples_leaf=1, random_state=42)\n",
    "temp_model.fit(X, y)\n",
    "importances = temp_model.feature_importances_\n",
    "feature_names = X.columns\n",
    "sorted_indices = np.argsort(importances)[::-1]\n",
    "top_7_features = feature_names[sorted_indices[:7]]\n",
    "\n",
    "# 3. Crear el subconjunto de datos con las características óptimas\n",
    "X_subset = X[top_7_features]\n",
    "\n",
    "# 4. Dividir los datos en conjuntos de entrenamiento y prueba\n",
    "X_train, X_test, y_train, y_test = train_test_split(X_subset, y, test_size=0.2, random_state=42, stratify=y)\n",
    "\n",
    "# 5. Construir y entrenar el modelo final con los parámetros óptimos\n",
    "rf_final_model = RandomForestClassifier(\n",
    "    n_estimators=170,\n",
    "    max_depth=20,\n",
    "    min_samples_leaf=1,\n",
    "    random_state=42\n",
    ")\n",
    "rf_final_model.fit(X_train, y_train)\n",
    "\n",
    "# 6. Realizar predicciones en el conjunto de prueba\n",
    "y_pred = rf_final_model.predict(X_test)\n",
    "\n",
    "# 7. Evaluar el modelo con métricas clave\n",
    "print(\"--- Métricas de Evaluación del Modelo Final ---\")\n",
    "print(f\"Precisión (Accuracy): {accuracy_score(y_test, y_pred):.4f}\")\n",
    "print(f\"F1-Score (Weighted): {f1_score(y_test, y_pred, average='weighted'):.4f}\")\n",
    "print(\"\\nReporte de Clasificación:\")\n",
    "print(classification_report(y_test, y_pred))"
   ]
  },
  {
   "cell_type": "code",
   "execution_count": 3,
   "id": "569d00fa",
   "metadata": {},
   "outputs": [
    {
     "name": "stdout",
     "output_type": "stream",
     "text": [
      "\n",
      "Matriz de Confusión:\n"
     ]
    },
    {
     "data": {
      "image/png": "[encoded data removed]",
      "text/plain": [
       "<Figure size 640x480 with 2 Axes>"
      ]
     },
     "metadata": {},
     "output_type": "display_data"
    }
   ],
   "source": [
    "print(\"\\nMatriz de Confusión:\")\n",
    "cm = confusion_matrix(y_test, y_pred)\n",
    "sns.heatmap(cm, annot=True, fmt='d', cmap='Blues', xticklabels=['No Calidad', 'Calidad'], yticklabels=['No Calidad', 'Calidad'])\n",
    "plt.title('Matriz de Confusión')\n",
    "plt.xlabel('Predicción')\n",
    "plt.ylabel('Real')\n",
    "plt.show()"
   ]
  },
  {
   "cell_type": "markdown",
   "id": "ee181cf3",
   "metadata": {},
   "source": [
    "**Tabla 1**\n",
    "\n",
    "| Métrica                | Valor     | Descripción                                                                 |\n",
    "|------------------------|-----------|-----------------------------------------------------------------------------|\n",
    "| Precisión (Accuracy)   | 0.816     | Porcentaje de predicciones correctas sobre el total de muestras.            |\n",
    "| F1-Score (Weighted)    | 0.816     | Media armónica entre precisión y exhaustividad, ponderada por clase.        |\n",
    "\n",
    "**Tabla 2**\n",
    "\n",
    "| Clase        | Precisión | Exhaustividad | F1-Score | Soporte |\n",
    "|--------------|-----------|---------------|----------|---------|\n",
    "| No Calidad   | 0.78      | 0.83          | 0.80     | 149     |\n",
    "| Calidad      | 0.85      | 0.81          | 0.83     | 171     |\n",
    "\n",
    "**Interpretación de la matriz de confusión:**\n",
    "\n",
    "|                | Predicción: No Calidad | Predicción: Calidad |\n",
    "|----------------|-----------------------|---------------------|\n",
    "| Real: No Calidad   | 124                   | 25                  |\n",
    "| Real: Calidad      | 34                    | 137                 |\n",
    "\n",
    "- **124** vinos de \"No Calidad\" fueron correctamente clasificados.\n",
    "- **137** vinos de \"Calidad\" fueron correctamente clasificados.\n",
    "- **25** vinos de \"No Calidad\" fueron clasificados erróneamente como \"Calidad\".\n",
    "- **34** vinos de \"Calidad\" fueron clasificados erróneamente como \"No Calidad\".\n",
    "\n",
    "El modelo tiene buen desempeño, con mayor precisión en la clase \"Calidad\", aunque existen algunos falsos positivos y negativos."
   ]
  },
  {
   "cell_type": "markdown",
   "id": "3953efde",
   "metadata": {},
   "source": [
    "#### Conclusiones del Modelo Inicial\n",
    "\n",
    "En este notebook, hemos construido y evaluado nuestro primer modelo de Bosques Aleatorios optimizado. Hemos logrado un modelo con una precisión del 82% y un F1-Score ponderado de 0.82, lo que demuestra su sólida capacidad para clasificar la calidad del vino\n",
    "\n",
    "1. Identificamos las principales variables predictoras para la calidad del vino.\n",
    "\n",
    "2. Comprobamos la efectividad de los parámetros (n_estimators, max_depth, min_samples_leaf, etc.) mediante la visualización de su impacto en el rendimiento\n",
    "\n",
    "3. Analizamos la matriz de confusión, revelando que, aunque el modelo tiene una alta confianza en sus predicciones, existen oportunidades de mejora al reducir los falsos positivos y falsos negativos\n",
    "\n",
    "Estos resultados son un gran logro, pero para asegurarnos de que el modelo sea robusto y que los parámetros que encontramos sean verdaderamente óptimos, necesitamos un enfoque más riguroso y para ello usaremos la validacion cruzada"
   ]
  }
 ],
 "metadata": {
  "kernelspec": {
   "display_name": "base",
   "language": "python",
   "name": "python3"
  },
  "language_info": {
   "codemirror_mode": {
    "name": "ipython",
    "version": 3
   },
   "file_extension": ".py",
   "mimetype": "text/x-python",
   "name": "python",
   "nbconvert_exporter": "python",
   "pygments_lexer": "ipython3",
   "version": "3.12.7"
  }
 },
 "nbformat": 4,
 "nbformat_minor": 5
}
