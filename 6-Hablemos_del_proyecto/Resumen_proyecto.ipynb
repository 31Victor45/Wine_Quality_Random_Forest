{
 "cells": [
  {
   "cell_type": "markdown",
   "id": "fe9ba42e",
   "metadata": {},
   "source": [
    "# Un resumen del proyecto desde mi perspectiva\n",
    "\n",
    "En este proyecto (mi primer algortimo de bosques aleatorios) he querido resolver un problema de clasificacion de vinos como se muestra en la infografia\n",
    "\n",
    "<center><img src = \"img/info_1.png\" width = 400 height = 350></center>"
   ]
  },
  {
   "cell_type": "markdown",
   "id": "a9e81cd4",
   "metadata": {},
   "source": [
    "Se que puede no ser la imagen mas ilustrativa visualmente pero resume el problema de manera sencilla ya que el problema de este proyecto se soluciona al pasarle las caracteristicas de nuestros vinos al modelo de Random Forest y una vez optimizado el mismo, nos ayudara a clasificar los vinos en base a su calidad\n",
    "\n",
    "El proyecto cuenta con su aplicacion de streamlit para predecir si un vino con las caracteristicas insertadas es bueno o malo y con su pagina web para que una vez el vino sea clasificado puedas ver la informacion del mismo\n",
    "\n",
    "Espero que el proyecto haya sido de tu agrado y que te haya parecido interesante"
   ]
  }
 ],
 "metadata": {
  "kernelspec": {
   "display_name": "base",
   "language": "python",
   "name": "python3"
  },
  "language_info": {
   "name": "python",
   "version": "3.12.7"
  }
 },
 "nbformat": 4,
 "nbformat_minor": 5
}
