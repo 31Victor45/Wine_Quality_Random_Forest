{
 "cells": [
  {
   "cell_type": "markdown",
   "id": "903417a8",
   "metadata": {},
   "source": [
    "# Información y Traducción de las Variables del Dataset\n",
    "\n",
    "Aquí tienes una descripción de cada una de las variables del conjunto de datos de vinos. Entender el significado de cada una te ayudará a interpretar el modelo de Bosque Aleatorio.\n",
    "\n",
    "* **fixed acidity** (*acidez fija*): Se refiere a la mayoría de los ácidos no volátiles que se encuentran en el vino, como el ácido tartárico.\n",
    "* **volatile acidity** (*acidez volátil*): Mide el ácido acético en el vino. En niveles altos, la acidez volátil se asocia con un sabor a vinagre no deseado.\n",
    "* **citric acid** (*ácido cítrico*): Un ácido débil que se encuentra en pequeñas cantidades. Puede agregar \"frescura\" y sabor al vino.\n",
    "* **residual sugar** (*azúcar residual*): La cantidad de azúcar que queda después de que la fermentación se detiene. Es un factor clave para el dulzor del vino.\n",
    "* **chlorides** (*cloruros*): La cantidad de sal en el vino.\n",
    "* **free sulfur dioxide** (*dióxido de azufre libre*): El dióxido de azufre molecular libre que existe en el vino. Actúa como un agente antimicrobiano y antioxidante, previniendo el crecimiento de bacterias y la oxidación.\n",
    "* **total sulfur dioxide** (*dióxido de azufre total*): La cantidad total de dióxido de azufre libre y enlazado que existe en el vino.\n",
    "* **density** (*densidad*): Es una medida de la relación entre la masa y el volumen del vino.\n",
    "* **pH**: Mide qué tan ácido o básico es el vino. Un valor de 7.0 es neutro. La mayoría de los vinos tienen un pH entre 3 y 4.\n",
    "* **sulphates** (*sulfatos*): Un aditivo que se agrega al vino. En su mayoría son dióxido de azufre (SO2) y pueden actuar como conservantes.\n",
    "* **alcohol** (*alcohol*): El contenido de alcohol del vino, medido como porcentaje."
   ]
  }
 ],
 "metadata": {
  "language_info": {
   "name": "python"
  }
 },
 "nbformat": 4,
 "nbformat_minor": 5
}
