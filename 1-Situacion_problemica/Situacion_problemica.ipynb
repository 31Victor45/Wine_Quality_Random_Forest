{
 "cells": [
  {
   "cell_type": "markdown",
   "id": "af9fb259",
   "metadata": {},
   "source": [
    "<center><img src = \"img/img_4.png\" widht = 400 height = 400></center>"
   ]
  }
 ],
 "metadata": {
  "language_info": {
   "name": "python"
  }
 },
 "nbformat": 4,
 "nbformat_minor": 5
}
