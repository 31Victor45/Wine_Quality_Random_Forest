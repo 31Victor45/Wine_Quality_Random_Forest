{
 "cells": [
  {
   "cell_type": "markdown",
   "id": "3267e1c6",
   "metadata": {},
   "source": [
    "# Situación Problemática: \"El dilema de la calidad\"\n",
    "\n",
    "La empresa Vinos de la Viña, con décadas de experiencia en el mercado, se enfrenta a un problema creciente que pone en riesgo su reputación y rentabilidad. Tradicionalmente, la clasificación de sus vinos se ha basado en la cata manual por parte de un pequeño equipo de enólogos experimentados. Este proceso, aunque preciso, es lento, subjetivo y costoso, lo que limita la capacidad de la empresa para procesar grandes volúmenes de vino de manera eficiente.\n",
    "\n",
    "Recientemente, Vinos de la Viña ha notado una inconsistencia alarmante. En ocasiones, un lote de vino que el equipo de enólogos clasifica como de **alta calidad** (calificación de sabor >= 6) es devuelto por distribuidores y clientes debido a quejas sobre su sabor. De forma inversa, lotes que fueron clasificados como de **baja calidad** (calificación < 6) y se vendieron a menor precio, a veces reciben comentarios sorprendentemente positivos.\n",
    "\n",
    "Esta discrepancia ha generado múltiples problemas:\n",
    "\n",
    "* **Pérdidas Financieras:** Los lotes clasificados erróneamente resultan en devoluciones, quejas y una pérdida de confianza de los distribuidores, lo que impacta directamente en los ingresos de la empresa.\n",
    "* **Ineficiencia Operativa:** El proceso de cata manual es un cuello de botella en la cadena de producción, impidiendo una gestión ágil del inventario y el control de calidad en tiempo real.\n",
    "* **Daño a la Marca:** La inconsistencia en la calidad percibida por el cliente final erosiona la reputación de la marca, afectando la lealtad y el valor a largo plazo."
   ]
  },
  {
   "cell_type": "markdown",
   "id": "af9fb259",
   "metadata": {},
   "source": [
    "<center><img src = \"img/img_4.png\" widht = 400 height = 400></center>"
   ]
  },
  {
   "cell_type": "markdown",
   "id": "1aba544a",
   "metadata": {},
   "source": [
    "La dirección de la empresa ha identificado la necesidad urgente de un método de clasificación objetivo, rápido y escalable. Su objetivo es desarrollar un sistema que, utilizando datos analíticos y químicos de cada lote, pueda predecir de manera confiable su calificación de calidad. Esto no solo resolvería el problema de las devoluciones, sino que también optimizaría la producción y el proceso de toma de decisiones.\n",
    "\n",
    "El desafío es grande, ya que la calidad del vino es el resultado de una interacción compleja entre múltiples variables (acidez, azúcares, alcohol, etc.). Es aquí donde el **aprendizaje automático**, y específicamente los **Bosques Aleatorios**, se presentan como una solución prometedora para construir un modelo que pueda capturar esta complejidad y clasificar los vinos con una alta precisión, superando la subjetividad y los límites del juicio humano."
   ]
  }
 ],
 "metadata": {
  "language_info": {
   "name": "python"
  }
 },
 "nbformat": 4,
 "nbformat_minor": 5
}
