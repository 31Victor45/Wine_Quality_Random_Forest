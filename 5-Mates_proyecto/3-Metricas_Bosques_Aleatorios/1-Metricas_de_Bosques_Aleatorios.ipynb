{
 "cells": [
  {
   "cell_type": "markdown",
   "id": "93b292b1",
   "metadata": {},
   "source": [
    "### Métricas de Evaluación\n",
    "\n",
    "Una vez que has entrenado un modelo, es crucial evaluar su rendimiento para saber si es \"bueno\" para tu problema. Para ello, utilizamos un conjunto de métricas que nos dan una imagen clara de cómo está funcionando.\n",
    "\n",
    "#### Matriz de Confusión\n",
    "\n",
    "La **Matriz de Confusión** es la base para entender las métricas de clasificación. Es una tabla que resume los resultados de las predicciones del modelo comparándolas con los valores reales. Se compone de cuatro celdas clave:\n",
    "\n",
    "* **Verdaderos Positivos (VP):** El modelo predijo `Positivo` y el valor real era `Positivo`.\n",
    "* **Verdaderos Negativos (VN):** El modelo predijo `Negativo` y el valor real era `Negativo`.\n",
    "* **Falsos Positivos (FP):** El modelo predijo `Positivo`, pero el valor real era `Negativo`. (Error de Tipo I)\n",
    "* **Falsos Negativos (FN):** El modelo predijo `Negativo`, pero el valor real era `Positivo`. (Error de Tipo II)\n",
    "\n",
    "\n",
    "\n",
    "|                 | Predicción: Positiva| Predicción: Negativa |\n",
    "|-----------------|---------------------|----------------------|\n",
    "| Real: Positiva  | Verdaderos Positivos| Falsos Negativos     |\n",
    "| Real: Negativa  | Falsos Positivos    | Verdaderos Negativos |\n"
   ]
  },
  {
   "cell_type": "markdown",
   "id": "64062613",
   "metadata": {},
   "source": [
    "#### Precisión (Accuracy)\n",
    "\n",
    "La **Precisión (Accuracy)** es la métrica más simple. Mide la proporción de predicciones correctas sobre el total de predicciones. Es intuitiva, pero puede ser engañosa si el dataset está desequilibrado.\n",
    "\n",
    "$$Accuracy = \\frac{VP + VN}{VP + VN + FP + FN}$$\n",
    "\n",
    "#### Sensibilidad (Recall) y Precisión (Precision)\n",
    "\n",
    "Estas dos métricas son más informativas que la Precisión, ya que se enfocan en los errores de una manera más específica:\n",
    "\n",
    "* **Sensibilidad (Recall):** Mide la capacidad del modelo para encontrar todos los positivos reales. Responde a la pregunta: \"De todos los casos positivos reales, ¿cuántos identificó correctamente mi modelo?\".\n",
    "\n",
    "$$Recall = \\frac{VP}{VP + FN}$$\n",
    "\n",
    "* **Precisión (Precision):** Mide la proporción de las predicciones positivas que fueron realmente correctas. Responde a la pregunta: \"De todas las veces que mi modelo predijo `Positivo`, ¿cuántas veces acertó?\".\n",
    "\n",
    "$$Precision = \\frac{VP}{VP + FP}$$\n",
    "\n",
    "El equilibrio entre `Recall` y `Precision` es fundamental. A menudo, mejorar una métrica puede ir en detrimento de la otra.\n",
    "\n",
    "#### F1-Score\n",
    "\n",
    "El **F1-Score** es una medida que combina la **Sensibilidad** y la **Precisión** en un solo valor. Es la media armónica de ambas y es especialmente útil cuando el dataset está desequilibrado, ya que penaliza los modelos que tienen una de las dos métricas muy bajas. Un F1-Score de 1.0 es perfecto.\n",
    "\n",
    "$$F1-Score = 2 \\cdot \\frac{Precision \\cdot Recall}{Precision + Recall}$$\n",
    "\n",
    "#### Curva ROC y AUC\n",
    "\n",
    "La **Curva ROC (Receiver Operating Characteristic)** y el **Área bajo la Curva (AUC)** son métricas importantes para evaluar el rendimiento de un clasificador.\n",
    "\n",
    "* La **Curva ROC** grafica la tasa de verdaderos positivos (Sensibilidad) versus la tasa de falsos positivos (1 - Tasa de Verdaderos Negativos) para diferentes umbrales de clasificación.\n",
    "* El **AUC** es el área total debajo de la curva ROC. Un modelo con un AUC de 1.0 es perfecto, mientras que un modelo con un AUC de 0.5 es tan bueno como un clasificador aleatorio. Un AUC alto indica que el modelo es capaz de distinguir bien entre las clases positivas y negativas.\n",
    "\n",
    "Estas métricas, especialmente en conjunto, te dan una visión completa de la efectividad de tu modelo más allá de la simple precisión, lo que es vital para la toma de decisiones en problemas del mundo real."
   ]
  }
 ],
 "metadata": {
  "language_info": {
   "name": "python"
  }
 },
 "nbformat": 4,
 "nbformat_minor": 5
}
