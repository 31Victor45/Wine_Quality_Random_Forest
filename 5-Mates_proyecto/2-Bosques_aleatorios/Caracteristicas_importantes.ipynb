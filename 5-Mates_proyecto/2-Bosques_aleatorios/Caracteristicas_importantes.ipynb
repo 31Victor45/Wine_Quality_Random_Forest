{
 "cells": [
  {
   "cell_type": "markdown",
   "id": "42421a85",
   "metadata": {},
   "source": [
    "### ¿Cómo sabemos qué variables influyeron más en el modelo?\n",
    "\n",
    "Para identificar las variables más influyentes en un modelo de **Bosque Aleatorio**, no necesitas herramientas externas o análisis adicionales. El algoritmo, por su propia naturaleza, calcula la importancia de cada característica de forma interna durante el proceso de entrenamiento.\n",
    "\n",
    "Esto se basa en la **\"Importancia de la Característica por Disminución de la Impureza de Gini\"**. En cada división de un nodo en cualquiera de los árboles del bosque, el algoritmo mide cuánto se redujo la impureza (o desorden) de los datos al usar una característica específica.\n",
    "\n",
    "Una variable con un valor de importancia alto es aquella que, al ser utilizada para dividir los datos, ayuda a separar las clases de manera más efectiva, es decir, genera nodos hijos más \"puros\". El valor final de importancia de una característica es el promedio de todas las disminuciones de impureza que esa característica causó a lo largo de todos los árboles del bosque.\n",
    "\n",
    "Cuando has entrenado un modelo usando un método como `GridSearchCV`, esta información se almacena en el mejor modelo que se encontró durante la búsqueda. Puedes acceder a ella a través del atributo `.feature_importances_` del mejor estimador (`grid_search.best_estimator_`). Este atributo devuelve un array con los valores de importancia de cada característica en el mismo orden que las columnas de tu dataset.\n",
    "\n",
    "Al ordenar estos valores de mayor a menor, puedes obtener un ranking claro de las variables que más contribuyeron a la capacidad del modelo para predecir la calidad del vino."
   ]
  }
 ],
 "metadata": {
  "language_info": {
   "name": "python"
  }
 },
 "nbformat": 4,
 "nbformat_minor": 5
}
